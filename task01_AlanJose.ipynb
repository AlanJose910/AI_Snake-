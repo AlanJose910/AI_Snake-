{
  "nbformat": 4,
  "nbformat_minor": 0,
  "metadata": {
    "colab": {
      "provenance": [],
      "gpuType": "T4",
      "authorship_tag": "ABX9TyNSiueygdek1bs+Yp1IQzGe",
      "include_colab_link": true
    },
    "kernelspec": {
      "name": "python3",
      "display_name": "Python 3"
    },
    "language_info": {
      "name": "python"
    },
    "accelerator": "GPU"
  },
  "cells": [
    {
      "cell_type": "markdown",
      "metadata": {
        "id": "view-in-github",
        "colab_type": "text"
      },
      "source": [
        "<a href=\"https://colab.research.google.com/github/AlanJose910/AI_Snake-/blob/main/task01_AlanJose.ipynb\" target=\"_parent\"><img src=\"https://colab.research.google.com/assets/colab-badge.svg\" alt=\"Open In Colab\"/></a>"
      ]
    },
    {
      "cell_type": "code",
      "execution_count": 22,
      "metadata": {
        "id": "Edi9WkrgRR1V"
      },
      "outputs": [],
      "source": [
        "import numpy as np\n",
        "import pandas as pd\n",
        "from sklearn.metrics import confusion_matrix\n",
        "import tensorflow as tf\n",
        "\n",
        "import matplotlib.pyplot as plt\n",
        "import seaborn as sns"
      ]
    },
    {
      "cell_type": "code",
      "source": [
        "gpus = tf.config.list_physical_devices('GPU')\n",
        "cpus = tf.config.list_physical_devices('CPU')\n",
        "print(gpus)\n",
        "print(cpus)"
      ],
      "metadata": {
        "colab": {
          "base_uri": "https://localhost:8080/"
        },
        "id": "KoEx2x_3T4nx",
        "outputId": "b34a1e32-a7e4-43a5-9baa-0568050318ed"
      },
      "execution_count": 23,
      "outputs": [
        {
          "output_type": "stream",
          "name": "stdout",
          "text": [
            "[PhysicalDevice(name='/physical_device:GPU:0', device_type='GPU')]\n",
            "[PhysicalDevice(name='/physical_device:CPU:0', device_type='CPU')]\n"
          ]
        }
      ]
    },
    {
      "cell_type": "code",
      "source": [
        "tf.config.list_physical_devices('GPU')\n"
      ],
      "metadata": {
        "colab": {
          "base_uri": "https://localhost:8080/"
        },
        "id": "ZyiPLrh-UeS9",
        "outputId": "e0aac918-46d0-4c26-e8e4-10e1247b4a26"
      },
      "execution_count": 24,
      "outputs": [
        {
          "output_type": "execute_result",
          "data": {
            "text/plain": [
              "[PhysicalDevice(name='/physical_device:GPU:0', device_type='GPU')]"
            ]
          },
          "metadata": {},
          "execution_count": 24
        }
      ]
    },
    {
      "cell_type": "code",
      "source": [
        "tf.config.set_visible_devices(gpus, 'GPU')"
      ],
      "metadata": {
        "id": "rmqLVlSLU6Od"
      },
      "execution_count": 25,
      "outputs": []
    },
    {
      "cell_type": "code",
      "source": [
        "a = tf.constant([[1.0, 2.0],\n",
        "                 [3.0, 4.0]])"
      ],
      "metadata": {
        "id": "zjU9B1VtVFYx"
      },
      "execution_count": 26,
      "outputs": []
    },
    {
      "cell_type": "code",
      "source": [
        "# Get the shape of the tensor\n",
        "shape = a.shape\n",
        "print(shape)"
      ],
      "metadata": {
        "colab": {
          "base_uri": "https://localhost:8080/"
        },
        "id": "YbMM1_rJVmXf",
        "outputId": "ea78f7a2-cd5a-45a1-9086-0c249615a04b"
      },
      "execution_count": 91,
      "outputs": [
        {
          "output_type": "stream",
          "name": "stdout",
          "text": [
            "(2, 3)\n"
          ]
        }
      ]
    },
    {
      "cell_type": "code",
      "source": [
        "#SUBTASK 01"
      ],
      "metadata": {
        "id": "rIWJmVXOZ8Xh"
      },
      "execution_count": null,
      "outputs": []
    },
    {
      "cell_type": "code",
      "source": [
        "b = tf.constant([[1.0, 1.0],\n",
        "                 [1.0, 1.0]]) # Could have also said `tf.ones([2,2])`\n",
        "\n",
        "print(tf.add(a, b), \"\\n\")\n",
        "print(tf.multiply(a, b), \"\\n\")\n",
        "print(tf.matmul(a, b), \"\\n\")"
      ],
      "metadata": {
        "colab": {
          "base_uri": "https://localhost:8080/"
        },
        "id": "06LANVViYjUC",
        "outputId": "2c4db99f-a3e4-434a-c287-570dfea505f5"
      },
      "execution_count": 28,
      "outputs": [
        {
          "output_type": "stream",
          "name": "stdout",
          "text": [
            "tf.Tensor(\n",
            "[[2. 3.]\n",
            " [4. 5.]], shape=(2, 2), dtype=float32) \n",
            "\n",
            "tf.Tensor(\n",
            "[[1. 2.]\n",
            " [3. 4.]], shape=(2, 2), dtype=float32) \n",
            "\n",
            "tf.Tensor(\n",
            "[[3. 3.]\n",
            " [7. 7.]], shape=(2, 2), dtype=float32) \n",
            "\n"
          ]
        }
      ]
    },
    {
      "cell_type": "code",
      "source": [
        "print(\"Mean of Tensor a:\")\n",
        "mean_a = tf.reduce_mean(a)\n",
        "print(mean_a, \"\\n\")\n",
        "\n",
        "print(\"Index of Smallest Value in Tensor a:\")\n",
        "index_smallest = tf.argmin(a)\n",
        "print(index_smallest, \"\\n\")\n",
        "\n",
        "print(\"Logarithm of Tensor a:\")\n",
        "log_a = tf.math.log(a)\n",
        "print(log_a, \"\\n\")\n",
        "\n",
        "print(\"Single Value from Tensor a (element at index [0, 1]):\")\n",
        "single_value = a[0, 1]\n",
        "print(single_value, \"\\n\")\n",
        "\n",
        "print(\"Reshaping Tensor a to a new shape (1x4):\")\n",
        "reshaped_a = tf.reshape(a, (1, 4))\n",
        "print(reshaped_a)"
      ],
      "metadata": {
        "colab": {
          "base_uri": "https://localhost:8080/"
        },
        "id": "GmAw_CtAWzNh",
        "outputId": "c44d817a-59ad-4c41-d862-547a75a3da65"
      },
      "execution_count": 29,
      "outputs": [
        {
          "output_type": "stream",
          "name": "stdout",
          "text": [
            "Mean of Tensor a:\n",
            "tf.Tensor(2.5, shape=(), dtype=float32) \n",
            "\n",
            "Index of Smallest Value in Tensor a:\n",
            "tf.Tensor([0 0], shape=(2,), dtype=int64) \n",
            "\n",
            "Logarithm of Tensor a:\n",
            "tf.Tensor(\n",
            "[[0.        0.6931472]\n",
            " [1.0986123 1.3862944]], shape=(2, 2), dtype=float32) \n",
            "\n",
            "Single Value from Tensor a (element at index [0, 1]):\n",
            "tf.Tensor(2.0, shape=(), dtype=float32) \n",
            "\n",
            "Reshaping Tensor a to a new shape (1x4):\n",
            "tf.Tensor([[1. 2. 3. 4.]], shape=(1, 4), dtype=float32)\n"
          ]
        }
      ]
    },
    {
      "cell_type": "code",
      "source": [
        "#SUBTASK 1.2"
      ],
      "metadata": {
        "id": "sDObHRSdZ1Fq"
      },
      "execution_count": null,
      "outputs": []
    },
    {
      "cell_type": "code",
      "source": [
        "numpyarray = np.arange(10).reshape(2, 5)\n",
        "# create a tensorflow variable\n",
        "a = tf.Variable(numpyarray, dtype=tf.float32)"
      ],
      "metadata": {
        "id": "jYXOuCw3aJya"
      },
      "execution_count": 18,
      "outputs": []
    },
    {
      "cell_type": "code",
      "source": [
        "#**TODO Your answer here**\n",
        "#Is tensor 'a' a trainable variable and what does it mean?\n",
        "\n",
        "#ANSWER: Yes, Because it creates a tenserflow variable  called 'tf.variable'"
      ],
      "metadata": {
        "id": "tDlUok5GahB7"
      },
      "execution_count": null,
      "outputs": []
    },
    {
      "cell_type": "code",
      "source": [
        "# Create variables on CPU\n",
        "with tf.device('CPU:0'):\n",
        "    # Define variables a and b\n",
        "    a = tf.Variable([[5.34, 2.45, 3.4], [4.24, 5.55, 45.9]])\n",
        "    b = tf.Variable([[1.67, 2.56], [12.3, 23.6], [34.67, 56.7]])\n",
        "\n",
        "# Perform matrix multiplication on GPU\n",
        "with tf.device('GPU:0'):\n",
        "    c = tf.matmul(a, b)\n",
        "\n",
        "# Print the result\n",
        "print(c)"
      ],
      "metadata": {
        "colab": {
          "base_uri": "https://localhost:8080/"
        },
        "id": "G_ffXxaNbLLk",
        "outputId": "f67f69e1-642f-4da3-c1d4-6f9dc48e9b9c"
      },
      "execution_count": 30,
      "outputs": [
        {
          "output_type": "stream",
          "name": "stdout",
          "text": [
            "tf.Tensor(\n",
            "[[ 156.9308   264.27042]\n",
            " [1666.6989  2744.3645 ]], shape=(2, 2), dtype=float32)\n"
          ]
        }
      ]
    },
    {
      "cell_type": "code",
      "source": [
        "#Subtask 1.3"
      ],
      "metadata": {
        "id": "OPEqrUUld-UK"
      },
      "execution_count": null,
      "outputs": []
    },
    {
      "cell_type": "code",
      "source": [
        "data = pd.read_csv('Flood_Data_Classification.csv')\n",
        "data"
      ],
      "metadata": {
        "colab": {
          "base_uri": "https://localhost:8080/",
          "height": 424
        },
        "id": "oV1O13DWeCVa",
        "outputId": "5748cf20-080e-49d1-bdb5-c3eb1eea9add"
      },
      "execution_count": 69,
      "outputs": [
        {
          "output_type": "execute_result",
          "data": {
            "text/plain": [
              "      Margarethenklippe  Sennhuette  labels\n",
              "0                   6.5         4.1     0.0\n",
              "1                   6.4         4.1     0.0\n",
              "2                   6.3         3.9     0.0\n",
              "3                   6.3         3.9     0.0\n",
              "4                   6.4         4.1     0.0\n",
              "...                 ...         ...     ...\n",
              "6245                6.9         3.3     0.0\n",
              "6246                6.9         3.4     0.0\n",
              "6247                6.8         3.5     0.0\n",
              "6248                6.7         3.2     0.0\n",
              "6249                6.8         3.1     0.0\n",
              "\n",
              "[6250 rows x 3 columns]"
            ],
            "text/html": [
              "\n",
              "  <div id=\"df-bcc120a6-fc97-491c-88fa-a72dc102533b\" class=\"colab-df-container\">\n",
              "    <div>\n",
              "<style scoped>\n",
              "    .dataframe tbody tr th:only-of-type {\n",
              "        vertical-align: middle;\n",
              "    }\n",
              "\n",
              "    .dataframe tbody tr th {\n",
              "        vertical-align: top;\n",
              "    }\n",
              "\n",
              "    .dataframe thead th {\n",
              "        text-align: right;\n",
              "    }\n",
              "</style>\n",
              "<table border=\"1\" class=\"dataframe\">\n",
              "  <thead>\n",
              "    <tr style=\"text-align: right;\">\n",
              "      <th></th>\n",
              "      <th>Margarethenklippe</th>\n",
              "      <th>Sennhuette</th>\n",
              "      <th>labels</th>\n",
              "    </tr>\n",
              "  </thead>\n",
              "  <tbody>\n",
              "    <tr>\n",
              "      <th>0</th>\n",
              "      <td>6.5</td>\n",
              "      <td>4.1</td>\n",
              "      <td>0.0</td>\n",
              "    </tr>\n",
              "    <tr>\n",
              "      <th>1</th>\n",
              "      <td>6.4</td>\n",
              "      <td>4.1</td>\n",
              "      <td>0.0</td>\n",
              "    </tr>\n",
              "    <tr>\n",
              "      <th>2</th>\n",
              "      <td>6.3</td>\n",
              "      <td>3.9</td>\n",
              "      <td>0.0</td>\n",
              "    </tr>\n",
              "    <tr>\n",
              "      <th>3</th>\n",
              "      <td>6.3</td>\n",
              "      <td>3.9</td>\n",
              "      <td>0.0</td>\n",
              "    </tr>\n",
              "    <tr>\n",
              "      <th>4</th>\n",
              "      <td>6.4</td>\n",
              "      <td>4.1</td>\n",
              "      <td>0.0</td>\n",
              "    </tr>\n",
              "    <tr>\n",
              "      <th>...</th>\n",
              "      <td>...</td>\n",
              "      <td>...</td>\n",
              "      <td>...</td>\n",
              "    </tr>\n",
              "    <tr>\n",
              "      <th>6245</th>\n",
              "      <td>6.9</td>\n",
              "      <td>3.3</td>\n",
              "      <td>0.0</td>\n",
              "    </tr>\n",
              "    <tr>\n",
              "      <th>6246</th>\n",
              "      <td>6.9</td>\n",
              "      <td>3.4</td>\n",
              "      <td>0.0</td>\n",
              "    </tr>\n",
              "    <tr>\n",
              "      <th>6247</th>\n",
              "      <td>6.8</td>\n",
              "      <td>3.5</td>\n",
              "      <td>0.0</td>\n",
              "    </tr>\n",
              "    <tr>\n",
              "      <th>6248</th>\n",
              "      <td>6.7</td>\n",
              "      <td>3.2</td>\n",
              "      <td>0.0</td>\n",
              "    </tr>\n",
              "    <tr>\n",
              "      <th>6249</th>\n",
              "      <td>6.8</td>\n",
              "      <td>3.1</td>\n",
              "      <td>0.0</td>\n",
              "    </tr>\n",
              "  </tbody>\n",
              "</table>\n",
              "<p>6250 rows × 3 columns</p>\n",
              "</div>\n",
              "    <div class=\"colab-df-buttons\">\n",
              "\n",
              "  <div class=\"colab-df-container\">\n",
              "    <button class=\"colab-df-convert\" onclick=\"convertToInteractive('df-bcc120a6-fc97-491c-88fa-a72dc102533b')\"\n",
              "            title=\"Convert this dataframe to an interactive table.\"\n",
              "            style=\"display:none;\">\n",
              "\n",
              "  <svg xmlns=\"http://www.w3.org/2000/svg\" height=\"24px\" viewBox=\"0 -960 960 960\">\n",
              "    <path d=\"M120-120v-720h720v720H120Zm60-500h600v-160H180v160Zm220 220h160v-160H400v160Zm0 220h160v-160H400v160ZM180-400h160v-160H180v160Zm440 0h160v-160H620v160ZM180-180h160v-160H180v160Zm440 0h160v-160H620v160Z\"/>\n",
              "  </svg>\n",
              "    </button>\n",
              "\n",
              "  <style>\n",
              "    .colab-df-container {\n",
              "      display:flex;\n",
              "      gap: 12px;\n",
              "    }\n",
              "\n",
              "    .colab-df-convert {\n",
              "      background-color: #E8F0FE;\n",
              "      border: none;\n",
              "      border-radius: 50%;\n",
              "      cursor: pointer;\n",
              "      display: none;\n",
              "      fill: #1967D2;\n",
              "      height: 32px;\n",
              "      padding: 0 0 0 0;\n",
              "      width: 32px;\n",
              "    }\n",
              "\n",
              "    .colab-df-convert:hover {\n",
              "      background-color: #E2EBFA;\n",
              "      box-shadow: 0px 1px 2px rgba(60, 64, 67, 0.3), 0px 1px 3px 1px rgba(60, 64, 67, 0.15);\n",
              "      fill: #174EA6;\n",
              "    }\n",
              "\n",
              "    .colab-df-buttons div {\n",
              "      margin-bottom: 4px;\n",
              "    }\n",
              "\n",
              "    [theme=dark] .colab-df-convert {\n",
              "      background-color: #3B4455;\n",
              "      fill: #D2E3FC;\n",
              "    }\n",
              "\n",
              "    [theme=dark] .colab-df-convert:hover {\n",
              "      background-color: #434B5C;\n",
              "      box-shadow: 0px 1px 3px 1px rgba(0, 0, 0, 0.15);\n",
              "      filter: drop-shadow(0px 1px 2px rgba(0, 0, 0, 0.3));\n",
              "      fill: #FFFFFF;\n",
              "    }\n",
              "  </style>\n",
              "\n",
              "    <script>\n",
              "      const buttonEl =\n",
              "        document.querySelector('#df-bcc120a6-fc97-491c-88fa-a72dc102533b button.colab-df-convert');\n",
              "      buttonEl.style.display =\n",
              "        google.colab.kernel.accessAllowed ? 'block' : 'none';\n",
              "\n",
              "      async function convertToInteractive(key) {\n",
              "        const element = document.querySelector('#df-bcc120a6-fc97-491c-88fa-a72dc102533b');\n",
              "        const dataTable =\n",
              "          await google.colab.kernel.invokeFunction('convertToInteractive',\n",
              "                                                    [key], {});\n",
              "        if (!dataTable) return;\n",
              "\n",
              "        const docLinkHtml = 'Like what you see? Visit the ' +\n",
              "          '<a target=\"_blank\" href=https://colab.research.google.com/notebooks/data_table.ipynb>data table notebook</a>'\n",
              "          + ' to learn more about interactive tables.';\n",
              "        element.innerHTML = '';\n",
              "        dataTable['output_type'] = 'display_data';\n",
              "        await google.colab.output.renderOutput(dataTable, element);\n",
              "        const docLink = document.createElement('div');\n",
              "        docLink.innerHTML = docLinkHtml;\n",
              "        element.appendChild(docLink);\n",
              "      }\n",
              "    </script>\n",
              "  </div>\n",
              "\n",
              "\n",
              "<div id=\"df-410385a1-230c-4718-a953-7f5d9f6e937e\">\n",
              "  <button class=\"colab-df-quickchart\" onclick=\"quickchart('df-410385a1-230c-4718-a953-7f5d9f6e937e')\"\n",
              "            title=\"Suggest charts\"\n",
              "            style=\"display:none;\">\n",
              "\n",
              "<svg xmlns=\"http://www.w3.org/2000/svg\" height=\"24px\"viewBox=\"0 0 24 24\"\n",
              "     width=\"24px\">\n",
              "    <g>\n",
              "        <path d=\"M19 3H5c-1.1 0-2 .9-2 2v14c0 1.1.9 2 2 2h14c1.1 0 2-.9 2-2V5c0-1.1-.9-2-2-2zM9 17H7v-7h2v7zm4 0h-2V7h2v10zm4 0h-2v-4h2v4z\"/>\n",
              "    </g>\n",
              "</svg>\n",
              "  </button>\n",
              "\n",
              "<style>\n",
              "  .colab-df-quickchart {\n",
              "      --bg-color: #E8F0FE;\n",
              "      --fill-color: #1967D2;\n",
              "      --hover-bg-color: #E2EBFA;\n",
              "      --hover-fill-color: #174EA6;\n",
              "      --disabled-fill-color: #AAA;\n",
              "      --disabled-bg-color: #DDD;\n",
              "  }\n",
              "\n",
              "  [theme=dark] .colab-df-quickchart {\n",
              "      --bg-color: #3B4455;\n",
              "      --fill-color: #D2E3FC;\n",
              "      --hover-bg-color: #434B5C;\n",
              "      --hover-fill-color: #FFFFFF;\n",
              "      --disabled-bg-color: #3B4455;\n",
              "      --disabled-fill-color: #666;\n",
              "  }\n",
              "\n",
              "  .colab-df-quickchart {\n",
              "    background-color: var(--bg-color);\n",
              "    border: none;\n",
              "    border-radius: 50%;\n",
              "    cursor: pointer;\n",
              "    display: none;\n",
              "    fill: var(--fill-color);\n",
              "    height: 32px;\n",
              "    padding: 0;\n",
              "    width: 32px;\n",
              "  }\n",
              "\n",
              "  .colab-df-quickchart:hover {\n",
              "    background-color: var(--hover-bg-color);\n",
              "    box-shadow: 0 1px 2px rgba(60, 64, 67, 0.3), 0 1px 3px 1px rgba(60, 64, 67, 0.15);\n",
              "    fill: var(--button-hover-fill-color);\n",
              "  }\n",
              "\n",
              "  .colab-df-quickchart-complete:disabled,\n",
              "  .colab-df-quickchart-complete:disabled:hover {\n",
              "    background-color: var(--disabled-bg-color);\n",
              "    fill: var(--disabled-fill-color);\n",
              "    box-shadow: none;\n",
              "  }\n",
              "\n",
              "  .colab-df-spinner {\n",
              "    border: 2px solid var(--fill-color);\n",
              "    border-color: transparent;\n",
              "    border-bottom-color: var(--fill-color);\n",
              "    animation:\n",
              "      spin 1s steps(1) infinite;\n",
              "  }\n",
              "\n",
              "  @keyframes spin {\n",
              "    0% {\n",
              "      border-color: transparent;\n",
              "      border-bottom-color: var(--fill-color);\n",
              "      border-left-color: var(--fill-color);\n",
              "    }\n",
              "    20% {\n",
              "      border-color: transparent;\n",
              "      border-left-color: var(--fill-color);\n",
              "      border-top-color: var(--fill-color);\n",
              "    }\n",
              "    30% {\n",
              "      border-color: transparent;\n",
              "      border-left-color: var(--fill-color);\n",
              "      border-top-color: var(--fill-color);\n",
              "      border-right-color: var(--fill-color);\n",
              "    }\n",
              "    40% {\n",
              "      border-color: transparent;\n",
              "      border-right-color: var(--fill-color);\n",
              "      border-top-color: var(--fill-color);\n",
              "    }\n",
              "    60% {\n",
              "      border-color: transparent;\n",
              "      border-right-color: var(--fill-color);\n",
              "    }\n",
              "    80% {\n",
              "      border-color: transparent;\n",
              "      border-right-color: var(--fill-color);\n",
              "      border-bottom-color: var(--fill-color);\n",
              "    }\n",
              "    90% {\n",
              "      border-color: transparent;\n",
              "      border-bottom-color: var(--fill-color);\n",
              "    }\n",
              "  }\n",
              "</style>\n",
              "\n",
              "  <script>\n",
              "    async function quickchart(key) {\n",
              "      const quickchartButtonEl =\n",
              "        document.querySelector('#' + key + ' button');\n",
              "      quickchartButtonEl.disabled = true;  // To prevent multiple clicks.\n",
              "      quickchartButtonEl.classList.add('colab-df-spinner');\n",
              "      try {\n",
              "        const charts = await google.colab.kernel.invokeFunction(\n",
              "            'suggestCharts', [key], {});\n",
              "      } catch (error) {\n",
              "        console.error('Error during call to suggestCharts:', error);\n",
              "      }\n",
              "      quickchartButtonEl.classList.remove('colab-df-spinner');\n",
              "      quickchartButtonEl.classList.add('colab-df-quickchart-complete');\n",
              "    }\n",
              "    (() => {\n",
              "      let quickchartButtonEl =\n",
              "        document.querySelector('#df-410385a1-230c-4718-a953-7f5d9f6e937e button');\n",
              "      quickchartButtonEl.style.display =\n",
              "        google.colab.kernel.accessAllowed ? 'block' : 'none';\n",
              "    })();\n",
              "  </script>\n",
              "</div>\n",
              "    </div>\n",
              "  </div>\n"
            ],
            "application/vnd.google.colaboratory.intrinsic+json": {
              "type": "dataframe",
              "variable_name": "data",
              "summary": "{\n  \"name\": \"data\",\n  \"rows\": 6250,\n  \"fields\": [\n    {\n      \"column\": \"Margarethenklippe\",\n      \"properties\": {\n        \"dtype\": \"number\",\n        \"std\": 6.396790820063394,\n        \"min\": 3.7,\n        \"max\": 155.8,\n        \"num_unique_values\": 313,\n        \"samples\": [\n          22.4,\n          7.8,\n          25.1\n        ],\n        \"semantic_type\": \"\",\n        \"description\": \"\"\n      }\n    },\n    {\n      \"column\": \"Sennhuette\",\n      \"properties\": {\n        \"dtype\": \"number\",\n        \"std\": 6.642199187913014,\n        \"min\": 1.5,\n        \"max\": 170.4,\n        \"num_unique_values\": 320,\n        \"samples\": [\n          16.5,\n          6.9,\n          4.6\n        ],\n        \"semantic_type\": \"\",\n        \"description\": \"\"\n      }\n    },\n    {\n      \"column\": \"labels\",\n      \"properties\": {\n        \"dtype\": \"number\",\n        \"std\": 0.46682140863119054,\n        \"min\": 0.0,\n        \"max\": 1.0,\n        \"num_unique_values\": 2,\n        \"samples\": [\n          1.0,\n          0.0\n        ],\n        \"semantic_type\": \"\",\n        \"description\": \"\"\n      }\n    }\n  ]\n}"
            }
          },
          "metadata": {},
          "execution_count": 69
        }
      ]
    },
    {
      "cell_type": "code",
      "source": [
        "print(data.describe)"
      ],
      "metadata": {
        "colab": {
          "base_uri": "https://localhost:8080/"
        },
        "id": "YjvxnvB4zowj",
        "outputId": "0dff4ab1-6bbf-48c8-9e9d-a4dc57a7abf2"
      },
      "execution_count": 70,
      "outputs": [
        {
          "output_type": "stream",
          "name": "stdout",
          "text": [
            "<bound method NDFrame.describe of       Margarethenklippe  Sennhuette  labels\n",
            "0                   6.5         4.1     0.0\n",
            "1                   6.4         4.1     0.0\n",
            "2                   6.3         3.9     0.0\n",
            "3                   6.3         3.9     0.0\n",
            "4                   6.4         4.1     0.0\n",
            "...                 ...         ...     ...\n",
            "6245                6.9         3.3     0.0\n",
            "6246                6.9         3.4     0.0\n",
            "6247                6.8         3.5     0.0\n",
            "6248                6.7         3.2     0.0\n",
            "6249                6.8         3.1     0.0\n",
            "\n",
            "[6250 rows x 3 columns]>\n"
          ]
        }
      ]
    },
    {
      "cell_type": "code",
      "source": [
        "corr = data.corr()\n",
        "\n",
        "fig, ax = plt.subplots(2, 1, figsize=(8, 5), sharex=True)\n",
        "\n",
        "ax[0].plot(np.where(data['labels']==0, data['Margarethenklippe'], None), color='tab:blue', label='Normal')\n",
        "ax[1].plot(np.where(data['labels']==0, data['Sennhuette'], None), color='tab:red', label='Normal')\n",
        "\n",
        "# Add titles, axis labels, and legend\n",
        "ax[0].set_title('Margarethenklippe')\n",
        "ax[0].set_ylabel('Value')\n",
        "ax[0].legend()\n",
        "\n",
        "ax[1].set_title('Sennhuette')\n",
        "ax[1].set_ylabel('Value')\n",
        "ax[1].legend()\n"
      ],
      "metadata": {
        "colab": {
          "base_uri": "https://localhost:8080/",
          "height": 486
        },
        "id": "wBuyfkTzeWGQ",
        "outputId": "6090bdce-334f-4207-9597-8e555a0c4469"
      },
      "execution_count": 79,
      "outputs": [
        {
          "output_type": "execute_result",
          "data": {
            "text/plain": [
              "<matplotlib.legend.Legend at 0x7910f5d95c60>"
            ]
          },
          "metadata": {},
          "execution_count": 79
        },
        {
          "output_type": "display_data",
          "data": {
            "text/plain": [
              "<Figure size 800x500 with 2 Axes>"
            ],
            "image/png": "[encoded data removed]"
          },
          "metadata": {}
        }
      ]
    },
    {
      "cell_type": "code",
      "source": [
        "import matplotlib.pyplot as plt\n",
        "import seaborn as sns\n",
        "\n",
        "# Compute the pairwise correlation matrix\n",
        "corr = data.corr()\n",
        "\n",
        "# Plot the correlation matrix\n",
        "f, ax = plt.subplots(1, 1)\n",
        "c = ax.imshow(corr)\n",
        "ax.set_xticks(np.arange(len(data.columns)))\n",
        "ax.set_yticks(np.arange(len(data.columns)))\n",
        "f.colorbar(c)\n",
        "ax.set_title('Correlation Matrix')\n",
        "\n"
      ],
      "metadata": {
        "colab": {
          "base_uri": "https://localhost:8080/",
          "height": 470
        },
        "id": "lqR4Y2yBfZXD",
        "outputId": "97a7fc12-39d6-4c5b-abbc-2a86ce1025d9"
      },
      "execution_count": 80,
      "outputs": [
        {
          "output_type": "execute_result",
          "data": {
            "text/plain": [
              "Text(0.5, 1.0, 'Correlation Matrix')"
            ]
          },
          "metadata": {},
          "execution_count": 80
        },
        {
          "output_type": "display_data",
          "data": {
            "text/plain": [
              "<Figure size 640x480 with 2 Axes>"
            ],
            "image/png": "[encoded data removed]"
          },
          "metadata": {}
        }
      ]
    },
    {
      "cell_type": "code",
      "source": [
        "import seaborn as sns\n",
        "\n",
        "sns.pairplot(data, diag_kind='kde')"
      ],
      "metadata": {
        "colab": {
          "base_uri": "https://localhost:8080/",
          "height": 776
        },
        "id": "eg4FAjhEnmhB",
        "outputId": "16d1e19c-7f01-443b-d9ab-108628284fdb"
      },
      "execution_count": 81,
      "outputs": [
        {
          "output_type": "execute_result",
          "data": {
            "text/plain": [
              "<seaborn.axisgrid.PairGrid at 0x7910f5cccf70>"
            ]
          },
          "metadata": {},
          "execution_count": 81
        },
        {
          "output_type": "display_data",
          "data": {
            "text/plain": [
              "<Figure size 750x750 with 12 Axes>"
            ],
            "image/png": "[encoded data removed]"
          },
          "metadata": {}
        }
      ]
    },
    {
      "cell_type": "code",
      "source": [
        "X = data[['Margarethenklippe', 'Sennhuette']]\n",
        "y = data['labels']"
      ],
      "metadata": {
        "id": "yUUteKTU601d"
      },
      "execution_count": 85,
      "outputs": []
    },
    {
      "cell_type": "code",
      "source": [
        "print(X.describe().transpose())\n",
        "print(y.describe().transpose())"
      ],
      "metadata": {
        "colab": {
          "base_uri": "https://localhost:8080/"
        },
        "id": "H8FvG7Ww7n99",
        "outputId": "1928c379-44ff-41c8-e520-1fb6f1bfd646"
      },
      "execution_count": 86,
      "outputs": [
        {
          "output_type": "stream",
          "name": "stdout",
          "text": [
            "                    count       mean       std  min  25%   50%   75%    max\n",
            "Margarethenklippe  6250.0  10.553440  6.396791  3.7  6.8  9.05  12.4  155.8\n",
            "Sennhuette         6250.0   7.821264  6.642199  1.5  4.0  6.00   9.4  170.4\n",
            "count    6250.000000\n",
            "mean        0.320800\n",
            "std         0.466821\n",
            "min         0.000000\n",
            "25%         0.000000\n",
            "50%         0.000000\n",
            "75%         1.000000\n",
            "max         1.000000\n",
            "Name: labels, dtype: float64\n"
          ]
        }
      ]
    },
    {
      "cell_type": "code",
      "source": [],
      "metadata": {
        "id": "85MmhFBgpI8R"
      },
      "execution_count": null,
      "outputs": []
    },
    {
      "cell_type": "code",
      "source": [
        "idx = np.arange((len(X)))\n",
        "np.random.shuffle(idx)\n",
        "X = X.iloc[idx]\n",
        "y = y.iloc[idx]"
      ],
      "metadata": {
        "id": "BUWBR6Oz74nn"
      },
      "execution_count": 87,
      "outputs": []
    },
    {
      "cell_type": "code",
      "source": [
        "N_train = int(0.5 * len(X))\n",
        "x_train, x_test, y_train, y_test = X.iloc[:N_train], X.iloc[N_train:], y.iloc[:N_train], y.iloc[N_train:]"
      ],
      "metadata": {
        "id": "Paemzu6_pGPo"
      },
      "execution_count": 88,
      "outputs": []
    },
    {
      "cell_type": "code",
      "source": [
        "\n",
        "mu = x_train.mean()\n",
        "std = x_train.std()\n",
        "\n"
      ],
      "metadata": {
        "id": "poMtZ4W0pQeD"
      },
      "execution_count": 89,
      "outputs": []
    },
    {
      "cell_type": "code",
      "source": [
        "class LinearRegressor(tf.keras.Model):\n",
        "    \"\"\"\n",
        "    Linear regression model\n",
        "    inherits the tf.keras.Model.\n",
        "    \"\"\"\n",
        "    def __init__(self):\n",
        "        \"\"\" Initializes internal Model state. \"\"\"\n",
        "        super(LinearRegressor, self).__init__()\n",
        "\n",
        "        # define linear layer for the model\n",
        "        input_dim = 2\n",
        "        output_dim = 2\n",
        "        self.W = tf.Variable(tf.random.normal((input_dim, output_dim)))\n",
        "        self.b = tf.Variable(tf.zeros(output_dim))\n",
        "\n",
        "        # Define the optimizer. In this case, we use Stochastic Gradient Descent (SGD).\n",
        "        self.optimizer = tf.optimizers.SGD(learning_rate=0.1)\n",
        "\n",
        "\n",
        "    def loss_fn(self, y_pred, y_true):\n",
        "        \"\"\" Define loss function \"\"\"\n",
        "        # TODO compute the loss\n",
        "        return tf.reduce_mean(tf.square(y_pred - y_true))\n",
        "\n",
        "\n",
        "    def call(self, inputs):\n",
        "        \"\"\" Defines the computation performed at every call. \"\"\"\n",
        "        # run the data through the layer\n",
        "        return tf.matmul(inputs, self.W) + self.b\n",
        "\n",
        "    def train_step(self, data):\n",
        "        \"\"\" Defines the computation performed at one step of training.\n",
        "            This typically includes the:\n",
        "            - forward pass\n",
        "            - loss calculation\n",
        "            - backpropagation\n",
        "            - metric updates.\n",
        "        \"\"\"\n",
        "        x_batch, y_batch = data\n",
        "\n",
        "        # compute the gradients and update the weights\n",
        "        with tf.GradientTape() as tape:\n",
        "            y_pred = self(x_batch, training=True)\n",
        "            loss = self.loss_fn(y_batch, y_pred)\n",
        "\n",
        "        grads = tape.gradient(loss, self.trainable_variables)\n",
        "        self.optimizer.apply_gradients(zip(grads, self.trainable_variables))\n",
        "\n",
        "        return {\"loss\": loss}\n",
        "\n",
        "    def test_step(self, data):\n",
        "        \"\"\" Defines the computation performed at one step of evaluation.\n",
        "            This typically includes the:\n",
        "            - forward pass\n",
        "            - loss calculation\n",
        "            - metric updates.\n",
        "        \"\"\"\n",
        "        x_batch, y_batch = data\n",
        "        y_pred = self(x_batch, training=False)\n",
        "        loss = self.loss_fn(y_batch, y_pred)\n",
        "        return {\"loss\": loss}\n"
      ],
      "metadata": {
        "id": "Xgf1R3qe9vix"
      },
      "execution_count": null,
      "outputs": []
    },
    {
      "cell_type": "code",
      "source": [
        "batch_size = 2048\n",
        "num_epochs = 10\n",
        "\n",
        "train_dataset = tf.data.Dataset.from_tensor_slices((x_train, y_train)).batch(batch_size)\n",
        "test_dataset = tf.data.Dataset.from_tensor_slices((x_test, y_test)).batch(batch_size)\n",
        "\n",
        "train_losses = []\n",
        "test_losses = []\n",
        "# Training loop\n",
        "for epoch in range(num_epochs):\n",
        "    # Train loop\n",
        "    train_loss = tf.keras.metrics.Mean()\n",
        "    for x_batch, y_batch in train_dataset:\n",
        "        train_loss(model.train_step((x_batch, y_batch))[\"loss\"])\n",
        "    train_losses.append(train_loss.result())\n",
        "\n",
        "    # Test loop\n",
        "    test_loss = tf.keras.metrics.Mean()\n",
        "    for x_batch, y_batch in test_dataset:\n",
        "        test_loss(model.test_step((x_batch, y_batch))[\"loss\"])\n",
        "    test_losses.append(test_loss.result())\n",
        "\n",
        "    # Print progress\n",
        "    print(f\"Epoch {epoch + 1}: train loss = {train_losses[-1]:.4f}, test loss = {test_losses[-1]:.4f}\")\n"
      ],
      "metadata": {
        "id": "kkfpg2hFulwd"
      },
      "execution_count": null,
      "outputs": []
    },
    {
      "cell_type": "code",
      "source": [],
      "metadata": {
        "id": "bMwq-c0Yuq7L"
      },
      "execution_count": null,
      "outputs": []
    },
    {
      "cell_type": "code",
      "source": [
        "batch_size = 2048\n",
        "num_epochs = 10\n",
        "\n",
        "train_dataset = tf.data.Dataset.from_tensor_slices((x_train, y_train)).batch(batch_size)\n",
        "test_dataset = tf.data.Dataset.from_tensor_slices((x_test, y_test)).batch(batch_size)\n",
        "\n",
        "train_losses = []\n",
        "test_losses = []\n",
        "# Training loop\n",
        "for epoch in range(num_epochs):\n",
        "    # Train loop\n",
        "    train_loss = tf.keras.metrics.Mean()\n",
        "    for x_batch, y_batch in train_dataset:\n",
        "        train_loss(model.train_step((x_batch, y_batch))[\"loss\"])\n",
        "    train_losses.append(train_loss.result())\n",
        "\n",
        "    # Test loop\n",
        "    test_loss = tf.keras.metrics.Mean()\n",
        "    for x_batch, y_batch in test_dataset:\n",
        "        test_loss(model.test_step((x_batch, y_batch))[\"loss\"])\n",
        "    test_losses.append(test_loss.result())\n",
        "\n",
        "    # Print progress\n",
        "    print(f\"Epoch {epoch + 1}: train loss = {train_losses[-1]:.4f}, test loss = {test_losses[-1]:.4f}\")"
      ],
      "metadata": {
        "id": "FWPkmX1x9ybY"
      },
      "execution_count": null,
      "outputs": []
    }
  ]
}